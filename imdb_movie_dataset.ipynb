{
 "cells": [
  {
   "cell_type": "markdown",
   "id": "6ebec4ce",
   "metadata": {},
   "source": [
    "without bigram"
   ]
  },
  {
   "cell_type": "code",
   "execution_count": 1,
   "id": "523510ec",
   "metadata": {},
   "outputs": [
    {
     "name": "stderr",
     "output_type": "stream",
     "text": [
      "[nltk_data] Downloading package punkt to\n",
      "[nltk_data]     /Users/puneethreddy/nltk_data...\n",
      "[nltk_data]   Package punkt is already up-to-date!\n",
      "[nltk_data] Downloading package stopwords to\n",
      "[nltk_data]     /Users/puneethreddy/nltk_data...\n",
      "[nltk_data]   Package stopwords is already up-to-date!\n",
      "[nltk_data] Downloading package wordnet to\n",
      "[nltk_data]     /Users/puneethreddy/nltk_data...\n",
      "[nltk_data]   Package wordnet is already up-to-date!\n"
     ]
    },
    {
     "name": "stdout",
     "output_type": "stream",
     "text": [
      "__label__positive really liked summerslam due look arena curtain look overall interesting reason anyways could one best summerslams ever wwf didnt lex luger main event yokozuna time ok huge fat man v strong man im glad time changed terrible main event like every match luger terrible match card razor ramon v ted dibiase steiner brother v heavenly body shawn michael v curt hening event shawn named big monster body guard diesel irs v kid bret hart first take doink take jerry lawler stuff hart lawler always interesting ludvig borga destroyed marty jannetty undertaker took giant gonzalez another terrible match smoking gunns tatanka took bam bam bigelow headshrinkers yokozuna defended world title lex luger match boring terrible ending however deserves\n",
      "\n",
      "__label__positive many television show appeal quite many different kind fan like farscape doesi know youngster year oldfans male female many different country think adore tv miniseries element found almost every show tv character driven drama could australian soap opera yet episode science fact fiction would give even hardiest trekkie run money brainbender stake wormhole theory time travel true equational formmagnificent embrace culture map possibility endless multiple star therefore thousand planet choose frombr br broad scope would expected nothing would able keep illusion long farscape really come elementit succeeds others failed especially like star trek universe practically zero kaos element ran idea pretty quickly kept rehashing course season manage keep audience attention using good continuity constant character evolution multiple thread every episode unique personal touch camera specific certain character group within whole structure allows extremely large area subject matter loyalty forged broken many way many many issue happened see pilot premiere passing keep tuning see crichton would ever get girl seeing television delighted see available dvd admit thing kept sane whilst hour night shift developed chronic insomniafarscape thing get extremely long nightsbr br favour watch pilot see meanbr br farscape comet\n",
      "\n",
      "__label__negative film quickly get major chase scene ever increasing destruction first really bad thing guy hijacking steven seagal would beaten pulp seagals driving probably would ended whole premise moviebr br seems like decided make kind change movie plot plan enjoy action expect coherent plot turn sense logic may reduce chance getting headachebr br give hope steven seagal trying move back towards type character portrayed popular movie\n",
      "\n",
      "__label__positive jane austen would definitely approve onebr br gwyneth paltrow awesome job capturing attitude emma funny without excessively silly yet elegant put convincing british accent british maybe im best judge fooled meshe also excellent sliding doorsi sometimes forget shes american br br also brilliant jeremy northam sophie thompson phyllida law emma thompson sister mother bates woman nearly steal showand m law doesnt even linesbr br highly recommended\n",
      "\n",
      "__label__negative expectation somewhat high went see movie thought steve carell could wrong coming great movie like anchorman yearold virgin little miss sunshine boy wrongbr br ill start right movie certain point steve carell allowed steve carell handful moment film made laugh due almost entirely given wiggleroom thing he undoubtedly talented individual shame signed turned opinion total trainwreckbr br way ill discus went horrifyingly wrongbr br film begin dan burn widower three girl considered nationally syndicated advice column prepares girl family reunion extended relative gather time otherbr br family high atop list thing make awful movie family behaves like almost theyve transported pleasantville leave beaver caricature think family reach point become obnoxious simply frustrating touch football crossword puzzle competition family bowling talent show actual people behave almost sickeningbr br another big flaw woman carell supposed falling observing first scene steve carell like watching stroke victim trying rehabilitated imagine supposed unique original woman come mildly retardedbr br make think movie taking place another planet left theater wondering saw thinking dont think much\n",
      "\n"
     ]
    },
    {
     "name": "stderr",
     "output_type": "stream",
     "text": [
      "Read 4M words\n",
      "Number of words:  145012\n",
      "Number of labels: 2\n",
      "Progress:  82.3% words/sec/thread: 9226142 lr:  0.017706 avg.loss:  0.289183 ETA:   0h 0m 0s"
     ]
    },
    {
     "name": "stdout",
     "output_type": "stream",
     "text": [
      "Number of examples: 10000\n",
      "Precision (Accuracy): 0.8847\n",
      "Recall: 0.8847\n",
      "Test Accuracy: 0.8847\n"
     ]
    },
    {
     "name": "stderr",
     "output_type": "stream",
     "text": [
      "Progress: 100.0% words/sec/thread: 8406812 lr:  0.000000 avg.loss:  0.275581 ETA:   0h 0m 0s\n"
     ]
    }
   ],
   "source": [
    "import pandas as pd\n",
    "import re\n",
    "from nltk.corpus import stopwords\n",
    "from nltk.tokenize import word_tokenize\n",
    "import fasttext\n",
    "import nltk\n",
    "from nltk.stem import WordNetLemmatizer\n",
    "\n",
    "# Download required NLTK resources\n",
    "nltk.download('punkt')\n",
    "nltk.download('stopwords')\n",
    "nltk.download('wordnet')\n",
    "\n",
    "# Load the IMDB dataset\n",
    "df = pd.read_csv(\"IMDB Dataset.csv\")\n",
    "\n",
    "# Rename the columns if needed (this is just a check to ensure compatibility)\n",
    "df.columns = ['review', 'sentiment']\n",
    "\n",
    "# Check for missing values and drop them if necessary\n",
    "df = df.dropna(subset=['review', 'sentiment'])\n",
    "\n",
    "# Preprocess the text\n",
    "stop_words = set(stopwords.words('english'))\n",
    "lemmatizer = WordNetLemmatizer()\n",
    "\n",
    "def preprocess_text(text):\n",
    "    text = text.lower()\n",
    "    text = re.sub(r'[^a-z\\s]', '', text)  # Remove non-alphabetic characters\n",
    "    tokens = word_tokenize(text)  # Tokenize the text\n",
    "    tokens = [lemmatizer.lemmatize(word) for word in tokens if word not in stop_words]  # Remove stopwords and lemmatize\n",
    "    return ' '.join(tokens)\n",
    "\n",
    "df['cleaned_review'] = df['review'].apply(preprocess_text)\n",
    "\n",
    "# Remove empty rows after preprocessing\n",
    "df = df[df['cleaned_review'].str.strip() != '']\n",
    "\n",
    "# Format the labels for FastText\n",
    "def format_labels(sentiment):\n",
    "    return f\"__label__{sentiment}\"\n",
    "\n",
    "df['formatted_labels'] = df['sentiment'].apply(format_labels)\n",
    "\n",
    "# Split the dataset into training and testing (80% train, 20% test)\n",
    "train_df = df.sample(frac=0.8, random_state=42)\n",
    "test_df = df.drop(train_df.index)\n",
    "\n",
    "# Save training and test data for FastText\n",
    "with open(\"train_imdb.txt\", \"w\") as f:\n",
    "    for label, review in zip(train_df['formatted_labels'], train_df['cleaned_review']):\n",
    "        f.write(f\"{label} {review}\\n\")\n",
    "\n",
    "with open(\"test_imdb.txt\", \"w\") as f:\n",
    "    for label, review in zip(test_df['formatted_labels'], test_df['cleaned_review']):\n",
    "        f.write(f\"{label} {review}\\n\")\n",
    "\n",
    "# Check if the training file has valid content\n",
    "with open(\"train_imdb.txt\", \"r\") as f:\n",
    "    for i in range(5):\n",
    "        print(f.readline())\n",
    "\n",
    "# Train the FastText model with the IMDB dataset\n",
    "model = fasttext.train_supervised(\n",
    "    input=\"train_imdb.txt\", \n",
    "    dim=10, \n",
    ")\n",
    "\n",
    "# Save the model\n",
    "model.save_model(\"imdb_model.bin\")\n",
    "\n",
    "# Test the FastText model\n",
    "result = model.test(\"test_imdb.txt\")\n",
    "print(f\"Number of examples: {result[0]}\")\n",
    "print(f\"Precision (Accuracy): {result[1]}\")\n",
    "print(f\"Recall: {result[2]}\")\n",
    "\n",
    "# Calculate and print accuracy\n",
    "accuracy = result[1]  # Precision is the accuracy\n",
    "print(f\"Test Accuracy: {accuracy:.4f}\")\n"
   ]
  },
  {
   "cell_type": "markdown",
   "id": "623712d0",
   "metadata": {},
   "source": [
    "with bigram"
   ]
  },
  {
   "cell_type": "code",
   "execution_count": 3,
   "id": "fb2705d4",
   "metadata": {},
   "outputs": [
    {
     "name": "stderr",
     "output_type": "stream",
     "text": [
      "[nltk_data] Downloading package punkt to\n",
      "[nltk_data]     /Users/puneethreddy/nltk_data...\n",
      "[nltk_data]   Package punkt is already up-to-date!\n",
      "[nltk_data] Downloading package stopwords to\n",
      "[nltk_data]     /Users/puneethreddy/nltk_data...\n",
      "[nltk_data]   Package stopwords is already up-to-date!\n",
      "[nltk_data] Downloading package wordnet to\n",
      "[nltk_data]     /Users/puneethreddy/nltk_data...\n",
      "[nltk_data]   Package wordnet is already up-to-date!\n"
     ]
    },
    {
     "name": "stdout",
     "output_type": "stream",
     "text": [
      "__label__positive really liked summerslam due look arena curtain look overall interesting reason anyways could one best summerslams ever wwf didnt lex luger main event yokozuna time ok huge fat man v strong man im glad time changed terrible main event like every match luger terrible match card razor ramon v ted dibiase steiner brother v heavenly body shawn michael v curt hening event shawn named big monster body guard diesel irs v kid bret hart first take doink take jerry lawler stuff hart lawler always interesting ludvig borga destroyed marty jannetty undertaker took giant gonzalez another terrible match smoking gunns tatanka took bam bam bigelow headshrinkers yokozuna defended world title lex luger match boring terrible ending however deserves\n",
      "\n",
      "__label__positive many television show appeal quite many different kind fan like farscape doesi know youngster year oldfans male female many different country think adore tv miniseries element found almost every show tv character driven drama could australian soap opera yet episode science fact fiction would give even hardiest trekkie run money brainbender stake wormhole theory time travel true equational formmagnificent embrace culture map possibility endless multiple star therefore thousand planet choose frombr br broad scope would expected nothing would able keep illusion long farscape really come elementit succeeds others failed especially like star trek universe practically zero kaos element ran idea pretty quickly kept rehashing course season manage keep audience attention using good continuity constant character evolution multiple thread every episode unique personal touch camera specific certain character group within whole structure allows extremely large area subject matter loyalty forged broken many way many many issue happened see pilot premiere passing keep tuning see crichton would ever get girl seeing television delighted see available dvd admit thing kept sane whilst hour night shift developed chronic insomniafarscape thing get extremely long nightsbr br favour watch pilot see meanbr br farscape comet\n",
      "\n",
      "__label__negative film quickly get major chase scene ever increasing destruction first really bad thing guy hijacking steven seagal would beaten pulp seagals driving probably would ended whole premise moviebr br seems like decided make kind change movie plot plan enjoy action expect coherent plot turn sense logic may reduce chance getting headachebr br give hope steven seagal trying move back towards type character portrayed popular movie\n",
      "\n",
      "__label__positive jane austen would definitely approve onebr br gwyneth paltrow awesome job capturing attitude emma funny without excessively silly yet elegant put convincing british accent british maybe im best judge fooled meshe also excellent sliding doorsi sometimes forget shes american br br also brilliant jeremy northam sophie thompson phyllida law emma thompson sister mother bates woman nearly steal showand m law doesnt even linesbr br highly recommended\n",
      "\n",
      "__label__negative expectation somewhat high went see movie thought steve carell could wrong coming great movie like anchorman yearold virgin little miss sunshine boy wrongbr br ill start right movie certain point steve carell allowed steve carell handful moment film made laugh due almost entirely given wiggleroom thing he undoubtedly talented individual shame signed turned opinion total trainwreckbr br way ill discus went horrifyingly wrongbr br film begin dan burn widower three girl considered nationally syndicated advice column prepares girl family reunion extended relative gather time otherbr br family high atop list thing make awful movie family behaves like almost theyve transported pleasantville leave beaver caricature think family reach point become obnoxious simply frustrating touch football crossword puzzle competition family bowling talent show actual people behave almost sickeningbr br another big flaw woman carell supposed falling observing first scene steve carell like watching stroke victim trying rehabilitated imagine supposed unique original woman come mildly retardedbr br make think movie taking place another planet left theater wondering saw thinking dont think much\n",
      "\n"
     ]
    },
    {
     "name": "stderr",
     "output_type": "stream",
     "text": [
      "Read 4M words\n",
      "Number of words:  145012\n",
      "Number of labels: 2\n",
      "Progress: 100.0% words/sec/thread: 5470999 lr:  0.000000 avg.loss:  0.298115 ETA:   0h 0m 0s\n"
     ]
    },
    {
     "name": "stdout",
     "output_type": "stream",
     "text": [
      "Number of examples: 10000\n",
      "Precision (Accuracy): 0.8863\n",
      "Recall: 0.8863\n",
      "Test Accuracy: 0.8863\n"
     ]
    }
   ],
   "source": [
    "import pandas as pd\n",
    "import re\n",
    "from nltk.corpus import stopwords\n",
    "from nltk.tokenize import word_tokenize\n",
    "import fasttext\n",
    "import nltk\n",
    "from nltk.stem import WordNetLemmatizer\n",
    "\n",
    "# Download required NLTK resources\n",
    "nltk.download('punkt')\n",
    "nltk.download('stopwords')\n",
    "nltk.download('wordnet')\n",
    "\n",
    "# Load the IMDB dataset\n",
    "df = pd.read_csv(\"IMDB Dataset.csv\")\n",
    "\n",
    "# Rename the columns if needed (this is just a check to ensure compatibility)\n",
    "df.columns = ['review', 'sentiment']\n",
    "\n",
    "# Check for missing values and drop them if necessary\n",
    "df = df.dropna(subset=['review', 'sentiment'])\n",
    "\n",
    "# Preprocess the text\n",
    "stop_words = set(stopwords.words('english'))\n",
    "lemmatizer = WordNetLemmatizer()\n",
    "\n",
    "def preprocess_text(text):\n",
    "    text = text.lower()\n",
    "    text = re.sub(r'[^a-z\\s]', '', text)  # Remove non-alphabetic characters\n",
    "    tokens = word_tokenize(text)  # Tokenize the text\n",
    "    tokens = [lemmatizer.lemmatize(word) for word in tokens if word not in stop_words]  # Remove stopwords and lemmatize\n",
    "    return ' '.join(tokens)\n",
    "\n",
    "df['cleaned_review'] = df['review'].apply(preprocess_text)\n",
    "\n",
    "# Remove empty rows after preprocessing\n",
    "df = df[df['cleaned_review'].str.strip() != '']\n",
    "\n",
    "# Format the labels for FastText\n",
    "def format_labels(sentiment):\n",
    "    return f\"__label__{sentiment}\"\n",
    "\n",
    "df['formatted_labels'] = df['sentiment'].apply(format_labels)\n",
    "\n",
    "# Split the dataset into training and testing (80% train, 20% test)\n",
    "train_df = df.sample(frac=0.8, random_state=42)\n",
    "test_df = df.drop(train_df.index)\n",
    "\n",
    "# Save training and test data for FastText\n",
    "with open(\"train_imdb.txt\", \"w\") as f:\n",
    "    for label, review in zip(train_df['formatted_labels'], train_df['cleaned_review']):\n",
    "        f.write(f\"{label} {review}\\n\")\n",
    "\n",
    "with open(\"test_imdb.txt\", \"w\") as f:\n",
    "    for label, review in zip(test_df['formatted_labels'], test_df['cleaned_review']):\n",
    "        f.write(f\"{label} {review}\\n\")\n",
    "\n",
    "# Check if the training file has valid content\n",
    "with open(\"train_imdb.txt\", \"r\") as f:\n",
    "    for i in range(5):\n",
    "        print(f.readline())\n",
    "\n",
    "# Train the FastText model with bigrams (wordNgrams=2)\n",
    "model = fasttext.train_supervised(\n",
    "    input=\"train_imdb.txt\", \n",
    "    dim=10, \n",
    "    wordNgrams=2  # Enable bigrams\n",
    ")\n",
    "\n",
    "# Save the model\n",
    "model.save_model(\"imdb_model_bigrams.bin\")\n",
    "\n",
    "# Test the FastText model\n",
    "result = model.test(\"test_imdb.txt\")\n",
    "print(f\"Number of examples: {result[0]}\")\n",
    "print(f\"Precision (Accuracy): {result[1]}\")\n",
    "print(f\"Recall: {result[2]}\")\n",
    "\n",
    "# Calculate and print accuracy\n",
    "accuracy = result[1]  # Precision is the accuracy\n",
    "print(f\"Test Accuracy: {accuracy:.4f}\")\n"
   ]
  },
  {
   "cell_type": "code",
   "execution_count": null,
   "id": "bf3207b4",
   "metadata": {},
   "outputs": [],
   "source": []
  }
 ],
 "metadata": {
  "kernelspec": {
   "display_name": "Python 3 (ipykernel)",
   "language": "python",
   "name": "python3"
  },
  "language_info": {
   "codemirror_mode": {
    "name": "ipython",
    "version": 3
   },
   "file_extension": ".py",
   "mimetype": "text/x-python",
   "name": "python",
   "nbconvert_exporter": "python",
   "pygments_lexer": "ipython3",
   "version": "3.11.7"
  }
 },
 "nbformat": 4,
 "nbformat_minor": 5
}
