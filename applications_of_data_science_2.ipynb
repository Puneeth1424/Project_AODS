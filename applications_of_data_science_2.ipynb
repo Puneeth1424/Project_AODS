{
 "cells": [
  {
   "cell_type": "markdown",
   "id": "902c1dd6",
   "metadata": {},
   "source": [
    "yelp dataset, with bigram"
   ]
  },
  {
   "cell_type": "code",
   "execution_count": 7,
   "id": "805d0ef5",
   "metadata": {},
   "outputs": [
    {
     "name": "stderr",
     "output_type": "stream",
     "text": [
      "[nltk_data] Downloading package punkt to\n",
      "[nltk_data]     /Users/puneethreddy/nltk_data...\n",
      "[nltk_data]   Package punkt is already up-to-date!\n",
      "[nltk_data] Downloading package stopwords to\n",
      "[nltk_data]     /Users/puneethreddy/nltk_data...\n",
      "[nltk_data]   Package stopwords is already up-to-date!\n",
      "Read 38M words\n",
      "Number of words:  698628\n",
      "Number of labels: 2\n",
      "Progress: 100.0% words/sec/thread: 5664571 lr:  0.000000 avg.loss:  0.126737 ETA:   0h 0m 0s\n"
     ]
    },
    {
     "name": "stdout",
     "output_type": "stream",
     "text": [
      "Number of examples: 37999\n",
      "Precision (Accuracy): 0.9440511592410327\n",
      "Recall: 0.9440511592410327\n",
      "Test Accuracy: 0.9441\n"
     ]
    }
   ],
   "source": [
    "import pandas as pd\n",
    "import re\n",
    "from nltk.corpus import stopwords\n",
    "from nltk.tokenize import word_tokenize\n",
    "import fasttext\n",
    "import nltk\n",
    "\n",
    "# Download required NLTK resources\n",
    "nltk.download('punkt')\n",
    "nltk.download('stopwords')\n",
    "\n",
    "# Load the training and test datasets\n",
    "train_df = pd.read_csv(\"yelp_train.csv\")\n",
    "test_df = pd.read_csv(\"yelp_test.csv\")\n",
    "\n",
    "# Check and rename columns if necessary\n",
    "train_df.columns = ['label', 'content']\n",
    "test_df.columns = ['label', 'content']\n",
    "\n",
    "# Preprocess the text\n",
    "stop_words = set(stopwords.words('english'))\n",
    "\n",
    "def preprocess_text(text):\n",
    "    text = text.lower()\n",
    "    text = re.sub(r'[^a-z\\s]', '', text)\n",
    "    tokens = word_tokenize(text)\n",
    "    tokens = [word for word in tokens if word not in stop_words]\n",
    "    return ' '.join(tokens)\n",
    "\n",
    "train_df['cleaned_content'] = train_df['content'].apply(preprocess_text)\n",
    "test_df['cleaned_content'] = test_df['content'].apply(preprocess_text)\n",
    "\n",
    "# Format the labels\n",
    "def format_labels(label):\n",
    "    return f\"__label__{label}\"\n",
    "\n",
    "train_df['formatted_labels'] = train_df['label'].apply(format_labels)\n",
    "test_df['formatted_labels'] = test_df['label'].apply(format_labels)\n",
    "\n",
    "# Save training and test data for FastText\n",
    "with open(\"train_yelp.txt\", \"w\") as f:\n",
    "    for label, content in zip(train_df['formatted_labels'], train_df['cleaned_content']):\n",
    "        f.write(f\"{label} {content}\\n\")\n",
    "\n",
    "with open(\"test_yelp.txt\", \"w\") as f:\n",
    "    for label, content in zip(test_df['formatted_labels'], test_df['cleaned_content']):\n",
    "        f.write(f\"{label} {content}\\n\")\n",
    "\n",
    "# Train the FastText model with dim=10 and bigrams\n",
    "model = fasttext.train_supervised(\n",
    "    input=\"train_yelp.txt\",\n",
    "    dim=10,           # Set embedding dimension to 10\n",
    "    wordNgrams=2      # Include bigrams\n",
    ")\n",
    "\n",
    "# Save the model\n",
    "model.save_model(\"yelp_model.bin\")\n",
    "\n",
    "# Test the FastText model\n",
    "result = model.test(\"test_yelp.txt\")\n",
    "print(f\"Number of examples: {result[0]}\")\n",
    "print(f\"Precision (Accuracy): {result[1]}\")\n",
    "print(f\"Recall: {result[2]}\")\n",
    "\n",
    "# Calculate and print accuracy\n",
    "accuracy = result[1]  # Precision is the accuracy in FastText\n",
    "print(f\"Test Accuracy: {accuracy:.4f}\")\n"
   ]
  },
  {
   "cell_type": "markdown",
   "id": "251d058b",
   "metadata": {},
   "source": [
    "normal without bigram"
   ]
  },
  {
   "cell_type": "code",
   "execution_count": 9,
   "id": "d5c85114",
   "metadata": {},
   "outputs": [
    {
     "name": "stderr",
     "output_type": "stream",
     "text": [
      "[nltk_data] Downloading package punkt to\n",
      "[nltk_data]     /Users/puneethreddy/nltk_data...\n",
      "[nltk_data]   Package punkt is already up-to-date!\n",
      "[nltk_data] Downloading package stopwords to\n",
      "[nltk_data]     /Users/puneethreddy/nltk_data...\n",
      "[nltk_data]   Package stopwords is already up-to-date!\n",
      "Read 38M words\n",
      "Number of words:  698628\n",
      "Number of labels: 2\n",
      "Progress: 100.0% words/sec/thread: 5890395 lr:  0.000000 avg.loss:  0.214680 ETA:   0h 0m 0s"
     ]
    },
    {
     "name": "stdout",
     "output_type": "stream",
     "text": [
      "Number of examples: 37999\n",
      "Precision (Accuracy): 0.9306034369325509\n",
      "Recall: 0.9306034369325509\n",
      "Test Accuracy: 0.9306\n"
     ]
    },
    {
     "name": "stderr",
     "output_type": "stream",
     "text": [
      " 0s\n"
     ]
    }
   ],
   "source": [
    "import pandas as pd\n",
    "import re\n",
    "from nltk.corpus import stopwords\n",
    "from nltk.tokenize import word_tokenize\n",
    "import fasttext\n",
    "import nltk\n",
    "\n",
    "# Download required NLTK resources\n",
    "nltk.download('punkt')\n",
    "nltk.download('stopwords')\n",
    "\n",
    "# Load the training and test datasets\n",
    "train_df = pd.read_csv(\"yelp_train.csv\")\n",
    "test_df = pd.read_csv(\"yelp_test.csv\")\n",
    "\n",
    "# Check and rename columns if necessary\n",
    "train_df.columns = ['label', 'content']\n",
    "test_df.columns = ['label', 'content']\n",
    "\n",
    "# Preprocess the text\n",
    "stop_words = set(stopwords.words('english'))\n",
    "\n",
    "def preprocess_text(text):\n",
    "    text = text.lower()\n",
    "    text = re.sub(r'[^a-z\\s]', '', text)\n",
    "    tokens = word_tokenize(text)\n",
    "    tokens = [word for word in tokens if word not in stop_words]\n",
    "    return ' '.join(tokens)\n",
    "\n",
    "train_df['cleaned_content'] = train_df['content'].apply(preprocess_text)\n",
    "test_df['cleaned_content'] = test_df['content'].apply(preprocess_text)\n",
    "\n",
    "# Format the labels\n",
    "def format_labels(label):\n",
    "    return f\"__label__{label}\"\n",
    "\n",
    "train_df['formatted_labels'] = train_df['label'].apply(format_labels)\n",
    "test_df['formatted_labels'] = test_df['label'].apply(format_labels)\n",
    "\n",
    "# Save training and test data for FastText\n",
    "with open(\"train_yelp.txt\", \"w\") as f:\n",
    "    for label, content in zip(train_df['formatted_labels'], train_df['cleaned_content']):\n",
    "        f.write(f\"{label} {content}\\n\")\n",
    "\n",
    "with open(\"test_yelp.txt\", \"w\") as f:\n",
    "    for label, content in zip(test_df['formatted_labels'], test_df['cleaned_content']):\n",
    "        f.write(f\"{label} {content}\\n\")\n",
    "\n",
    "# Train the FastText model with dim=10 and bigrams\n",
    "model = fasttext.train_supervised(\n",
    "    input=\"train_yelp.txt\")\n",
    "\n",
    "# Save the model\n",
    "model.save_model(\"yelp_model.bin\")\n",
    "\n",
    "# Test the FastText model\n",
    "result = model.test(\"test_yelp.txt\")\n",
    "print(f\"Number of examples: {result[0]}\")\n",
    "print(f\"Precision (Accuracy): {result[1]}\")\n",
    "print(f\"Recall: {result[2]}\")\n",
    "\n",
    "# Calculate and print accuracy\n",
    "accuracy = result[1]  # Precision is the accuracy in FastText\n",
    "print(f\"Test Accuracy: {accuracy:.4f}\")\n"
   ]
  },
  {
   "cell_type": "code",
   "execution_count": null,
   "id": "85820937",
   "metadata": {},
   "outputs": [],
   "source": []
  }
 ],
 "metadata": {
  "kernelspec": {
   "display_name": "Python 3 (ipykernel)",
   "language": "python",
   "name": "python3"
  },
  "language_info": {
   "codemirror_mode": {
    "name": "ipython",
    "version": 3
   },
   "file_extension": ".py",
   "mimetype": "text/x-python",
   "name": "python",
   "nbconvert_exporter": "python",
   "pygments_lexer": "ipython3",
   "version": "3.11.7"
  }
 },
 "nbformat": 4,
 "nbformat_minor": 5
}
