{
 "cells": [
  {
   "cell_type": "markdown",
   "id": "a513c65b",
   "metadata": {},
   "source": [
    "ag news dataset without bigran"
   ]
  },
  {
   "cell_type": "code",
   "execution_count": 25,
   "id": "89133a04",
   "metadata": {},
   "outputs": [
    {
     "name": "stderr",
     "output_type": "stream",
     "text": [
      "[nltk_data] Downloading package punkt to\n",
      "[nltk_data]     /Users/puneethreddy/nltk_data...\n",
      "[nltk_data]   Package punkt is already up-to-date!\n",
      "[nltk_data] Downloading package stopwords to\n",
      "[nltk_data]     /Users/puneethreddy/nltk_data...\n",
      "[nltk_data]   Package stopwords is already up-to-date!\n",
      "[nltk_data] Downloading package wordnet to\n",
      "[nltk_data]     /Users/puneethreddy/nltk_data...\n",
      "[nltk_data]   Package wordnet is already up-to-date!\n"
     ]
    },
    {
     "name": "stdout",
     "output_type": "stream",
     "text": [
      "__label__3 wall st bear claw back black reuters\n",
      "\n",
      "__label__3 carlyle look toward commercial aerospace reuters\n",
      "\n",
      "__label__3 oil economy cloud stock outlook reuters\n",
      "\n",
      "__label__3 iraq halt oil export main southern pipeline reuters\n",
      "\n",
      "__label__3 oil price soar alltime record posing new menace u economy afp\n",
      "\n"
     ]
    },
    {
     "name": "stderr",
     "output_type": "stream",
     "text": [
      "Read 0M words\n",
      "Number of words:  32552\n",
      "Number of labels: 4\n",
      "Progress:  87.6% words/sec/thread: 5247746 lr:  0.012398 avg.loss:  3.548162 ETA:   0h 0m 0s"
     ]
    },
    {
     "name": "stdout",
     "output_type": "stream",
     "text": [
      "Number of examples: 7600\n",
      "Precision (Accuracy): 0.8468421052631578\n",
      "Recall: 0.8468421052631578\n",
      "Test Accuracy: 0.8468\n"
     ]
    },
    {
     "name": "stderr",
     "output_type": "stream",
     "text": [
      "Progress: 100.0% words/sec/thread: 2929070 lr:  0.000000 avg.loss:  3.314615 ETA:   0h 0m 0s\n"
     ]
    }
   ],
   "source": [
    "import pandas as pd\n",
    "import re\n",
    "from nltk.corpus import stopwords\n",
    "from nltk.tokenize import word_tokenize\n",
    "import fasttext\n",
    "import nltk\n",
    "from nltk.stem import WordNetLemmatizer\n",
    "\n",
    "# Download required NLTK resources\n",
    "nltk.download('punkt')\n",
    "nltk.download('stopwords')\n",
    "nltk.download('wordnet')\n",
    "\n",
    "# Load the training and test datasets\n",
    "train_df = pd.read_csv(\"ag_train.csv\")\n",
    "test_df = pd.read_csv(\"ag_test.csv\")\n",
    "\n",
    "# Rename all three columns\n",
    "train_df.columns = ['label', 'content', 'extra_feature']\n",
    "test_df.columns = ['label', 'content', 'extra_feature']\n",
    "\n",
    "# Check for missing values and drop them if necessary\n",
    "train_df = train_df.dropna(subset=['label', 'content'])\n",
    "test_df = test_df.dropna(subset=['label', 'content'])\n",
    "\n",
    "# Preprocess the text\n",
    "stop_words = set(stopwords.words('english'))\n",
    "lemmatizer = WordNetLemmatizer()\n",
    "\n",
    "def preprocess_text(text):\n",
    "    text = text.lower()\n",
    "    text = re.sub(r'[^a-z\\s]', '', text)\n",
    "    tokens = word_tokenize(text)\n",
    "    tokens = [lemmatizer.lemmatize(word) for word in tokens if word not in stop_words]\n",
    "    return ' '.join(tokens)\n",
    "\n",
    "train_df['cleaned_content'] = train_df['content'].apply(preprocess_text)\n",
    "test_df['cleaned_content'] = test_df['content'].apply(preprocess_text)\n",
    "\n",
    "# Remove empty rows after preprocessing\n",
    "train_df = train_df[train_df['cleaned_content'].str.strip() != '']\n",
    "test_df = test_df[test_df['cleaned_content'].str.strip() != '']\n",
    "\n",
    "# Format the labels\n",
    "def format_labels(label):\n",
    "    return f\"__label__{label}\"\n",
    "\n",
    "train_df['formatted_labels'] = train_df['label'].apply(format_labels)\n",
    "test_df['formatted_labels'] = test_df['label'].apply(format_labels)\n",
    "\n",
    "# Save training and test data for FastText\n",
    "with open(\"train_ag.txt\", \"w\") as f:\n",
    "    for label, content in zip(train_df['formatted_labels'], train_df['cleaned_content']):\n",
    "        f.write(f\"{label} {content}\\n\")\n",
    "\n",
    "with open(\"test_ag.txt\", \"w\") as f:\n",
    "    for label, content in zip(test_df['formatted_labels'], test_df['cleaned_content']):\n",
    "        f.write(f\"{label} {content}\\n\")\n",
    "\n",
    "# Check if the training file has valid content\n",
    "with open(\"train_ag.txt\", \"r\") as f:\n",
    "    for i in range(5):\n",
    "        print(f.readline())\n",
    "\n",
    "# Train the FastText model with tuned parameters (dropout removed)\n",
    "model = fasttext.train_supervised(\n",
    "    input=\"train_ag.txt\", \n",
    "    dim=10, \n",
    ")\n",
    "\n",
    "# Save the model\n",
    "model.save_model(\"ag_model.bin\")\n",
    "\n",
    "# Test the FastText model\n",
    "result = model.test(\"test_ag.txt\")\n",
    "print(f\"Number of examples: {result[0]}\")\n",
    "print(f\"Precision (Accuracy): {result[1]}\")\n",
    "print(f\"Recall: {result[2]}\")\n",
    "\n",
    "# Calculate and print accuracy\n",
    "accuracy = result[1]  # Precision is the accuracy\n",
    "print(f\"Test Accuracy: {accuracy:.4f}\")\n"
   ]
  },
  {
   "cell_type": "markdown",
   "id": "fed96b4b",
   "metadata": {},
   "source": [
    "ag news datset with bigram"
   ]
  },
  {
   "cell_type": "code",
   "execution_count": 24,
   "id": "c828bc26",
   "metadata": {},
   "outputs": [
    {
     "name": "stderr",
     "output_type": "stream",
     "text": [
      "[nltk_data] Downloading package punkt to\n",
      "[nltk_data]     /Users/puneethreddy/nltk_data...\n",
      "[nltk_data]   Package punkt is already up-to-date!\n",
      "[nltk_data] Downloading package stopwords to\n",
      "[nltk_data]     /Users/puneethreddy/nltk_data...\n",
      "[nltk_data]   Package stopwords is already up-to-date!\n",
      "[nltk_data] Downloading package wordnet to\n",
      "[nltk_data]     /Users/puneethreddy/nltk_data...\n",
      "[nltk_data]   Package wordnet is already up-to-date!\n"
     ]
    },
    {
     "name": "stdout",
     "output_type": "stream",
     "text": [
      "__label__3 wall st bear claw back black reuters\n",
      "\n",
      "__label__3 carlyle look toward commercial aerospace reuters\n",
      "\n",
      "__label__3 oil economy cloud stock outlook reuters\n",
      "\n",
      "__label__3 iraq halt oil export main southern pipeline reuters\n",
      "\n",
      "__label__3 oil price soar alltime record posing new menace u economy afp\n",
      "\n"
     ]
    },
    {
     "name": "stderr",
     "output_type": "stream",
     "text": [
      "Read 0M words\n",
      "Number of words:  10929\n",
      "Number of labels: 4\n",
      "Progress:  96.3% words/sec/thread: 1125892 lr:  0.007403 avg.loss:  0.102280 ETA:   0h 0m 0s"
     ]
    },
    {
     "name": "stdout",
     "output_type": "stream",
     "text": [
      "Number of examples: 7600\n",
      "Precision (Accuracy): 0.863421052631579\n",
      "Recall: 0.863421052631579\n",
      "Test Accuracy: 0.8634\n"
     ]
    },
    {
     "name": "stderr",
     "output_type": "stream",
     "text": [
      "Progress: 100.0% words/sec/thread: 1125248 lr:  0.000000 avg.loss:  0.099552 ETA:   0h 0m 0s\n"
     ]
    }
   ],
   "source": [
    "import pandas as pd\n",
    "import re\n",
    "from nltk.corpus import stopwords\n",
    "from nltk.tokenize import word_tokenize\n",
    "import fasttext\n",
    "import nltk\n",
    "from nltk.stem import WordNetLemmatizer\n",
    "\n",
    "# Download required NLTK resources\n",
    "nltk.download('punkt')\n",
    "nltk.download('stopwords')\n",
    "nltk.download('wordnet')\n",
    "\n",
    "# Load the training and test datasets\n",
    "train_df = pd.read_csv(\"ag_train.csv\")\n",
    "test_df = pd.read_csv(\"ag_test.csv\")\n",
    "\n",
    "# Rename all three columns\n",
    "train_df.columns = ['label', 'content', 'extra_feature']\n",
    "test_df.columns = ['label', 'content', 'extra_feature']\n",
    "\n",
    "# Check for missing values and drop them if necessary\n",
    "train_df = train_df.dropna(subset=['label', 'content'])\n",
    "test_df = test_df.dropna(subset=['label', 'content'])\n",
    "\n",
    "# Preprocess the text\n",
    "stop_words = set(stopwords.words('english'))\n",
    "lemmatizer = WordNetLemmatizer()\n",
    "\n",
    "def preprocess_text(text):\n",
    "    text = text.lower()\n",
    "    text = re.sub(r'[^a-z\\s]', '', text)\n",
    "    tokens = word_tokenize(text)\n",
    "    tokens = [lemmatizer.lemmatize(word) for word in tokens if word not in stop_words]\n",
    "    return ' '.join(tokens)\n",
    "\n",
    "train_df['cleaned_content'] = train_df['content'].apply(preprocess_text)\n",
    "test_df['cleaned_content'] = test_df['content'].apply(preprocess_text)\n",
    "\n",
    "# Remove empty rows after preprocessing\n",
    "train_df = train_df[train_df['cleaned_content'].str.strip() != '']\n",
    "test_df = test_df[test_df['cleaned_content'].str.strip() != '']\n",
    "\n",
    "# Format the labels\n",
    "def format_labels(label):\n",
    "    return f\"__label__{label}\"\n",
    "\n",
    "train_df['formatted_labels'] = train_df['label'].apply(format_labels)\n",
    "test_df['formatted_labels'] = test_df['label'].apply(format_labels)\n",
    "\n",
    "# Save training and test data for FastText\n",
    "with open(\"train_ag.txt\", \"w\") as f:\n",
    "    for label, content in zip(train_df['formatted_labels'], train_df['cleaned_content']):\n",
    "        f.write(f\"{label} {content}\\n\")\n",
    "\n",
    "with open(\"test_ag.txt\", \"w\") as f:\n",
    "    for label, content in zip(test_df['formatted_labels'], test_df['cleaned_content']):\n",
    "        f.write(f\"{label} {content}\\n\")\n",
    "\n",
    "# Check if the training file has valid content\n",
    "with open(\"train_ag.txt\", \"r\") as f:\n",
    "    for i in range(5):\n",
    "        print(f.readline())\n",
    "\n",
    "# Train the FastText model with tuned parameters (dropout removed)\n",
    "model = fasttext.train_supervised(\n",
    "    input=\"train_ag.txt\", \n",
    "    dim=10, \n",
    "    wordNgrams=2,  # Increased to 3-grams for richer context\n",
    "    epoch=50,  # More epochs for better training\n",
    "    lr=0.2,  # Higher learning rate for faster convergence\n",
    "    minCount=5,  # Lower minCount to capture more words\n",
    "    loss='softmax',  # Use softmax for better classification\n",
    "    minn=2, maxn=5,  # Enable subword information\n",
    "    bucket=2000000  # Use a large bucket for hashing subwords\n",
    ")\n",
    "\n",
    "# Save the model\n",
    "model.save_model(\"ag_model.bin\")\n",
    "\n",
    "# Test the FastText model\n",
    "result = model.test(\"test_ag.txt\")\n",
    "print(f\"Number of examples: {result[0]}\")\n",
    "print(f\"Precision (Accuracy): {result[1]}\")\n",
    "print(f\"Recall: {result[2]}\")\n",
    "\n",
    "# Calculate and print accuracy\n",
    "accuracy = result[1]  # Precision is the accuracy\n",
    "print(f\"Test Accuracy: {accuracy:.4f}\")\n"
   ]
  },
  {
   "cell_type": "code",
   "execution_count": null,
   "id": "5afc2da9",
   "metadata": {},
   "outputs": [],
   "source": []
  }
 ],
 "metadata": {
  "kernelspec": {
   "display_name": "Python 3 (ipykernel)",
   "language": "python",
   "name": "python3"
  },
  "language_info": {
   "codemirror_mode": {
    "name": "ipython",
    "version": 3
   },
   "file_extension": ".py",
   "mimetype": "text/x-python",
   "name": "python",
   "nbconvert_exporter": "python",
   "pygments_lexer": "ipython3",
   "version": "3.11.7"
  }
 },
 "nbformat": 4,
 "nbformat_minor": 5
}
