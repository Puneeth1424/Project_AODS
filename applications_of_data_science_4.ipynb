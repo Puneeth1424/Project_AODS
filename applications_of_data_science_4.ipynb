{
 "cells": [
  {
   "cell_type": "markdown",
   "id": "a78e15ec",
   "metadata": {},
   "source": [
    "yahoo datset with bigram"
   ]
  },
  {
   "cell_type": "code",
   "execution_count": 7,
   "id": "6781b8a4",
   "metadata": {},
   "outputs": [
    {
     "name": "stderr",
     "output_type": "stream",
     "text": [
      "[nltk_data] Downloading package punkt to\n",
      "[nltk_data]     /Users/puneethreddy/nltk_data...\n",
      "[nltk_data]   Package punkt is already up-to-date!\n",
      "[nltk_data] Downloading package stopwords to\n",
      "[nltk_data]     /Users/puneethreddy/nltk_data...\n",
      "[nltk_data]   Package stopwords is already up-to-date!\n",
      "[nltk_data] Downloading package wordnet to\n",
      "[nltk_data]     /Users/puneethreddy/nltk_data...\n",
      "[nltk_data]   Package wordnet is already up-to-date!\n"
     ]
    },
    {
     "name": "stdout",
     "output_type": "stream",
     "text": [
      "__label__6 best offroad motorcycle trail\n",
      "\n",
      "__label__3 trans fat reduce\n",
      "\n",
      "__label__7 many plane fedex\n",
      "\n",
      "__label__7 san francisco bay area make sense rent buy\n",
      "\n",
      "__label__5 whats best way clean keyboard\n",
      "\n"
     ]
    },
    {
     "name": "stderr",
     "output_type": "stream",
     "text": [
      "Read 10M words\n",
      "Number of words:  302639\n",
      "Number of labels: 10\n",
      "Progress: 100.0% words/sec/thread: 3439683 lr:  0.000000 avg.loss:  0.243856 ETA:   0h 0m 0s\n"
     ]
    },
    {
     "name": "stdout",
     "output_type": "stream",
     "text": [
      "Number of examples: 59814\n",
      "Precision (Accuracy): 0.6369746213261109\n",
      "Recall: 0.6369746213261109\n",
      "Test Accuracy: 0.6370\n"
     ]
    }
   ],
   "source": [
    "import pandas as pd\n",
    "import re\n",
    "from nltk.corpus import stopwords\n",
    "from nltk.tokenize import word_tokenize\n",
    "import fasttext\n",
    "import nltk\n",
    "from nltk.stem import WordNetLemmatizer\n",
    "\n",
    "# Download required NLTK resources\n",
    "nltk.download('punkt')\n",
    "nltk.download('stopwords')\n",
    "nltk.download('wordnet')\n",
    "\n",
    "# Load the training and test datasets\n",
    "train_df = pd.read_csv(\"yahoo_train.csv\")\n",
    "test_df = pd.read_csv(\"yahoo_test.csv\")\n",
    "\n",
    "# Rename columns\n",
    "train_df.columns = ['label', 'content', 'extra_feature','extra_feature_2']\n",
    "test_df.columns = ['label', 'content', 'extra_feature','extra_feature_2']\n",
    "\n",
    "# Check for missing values and drop them if necessary\n",
    "train_df = train_df.dropna(subset=['label', 'content'])\n",
    "test_df = test_df.dropna(subset=['label', 'content'])\n",
    "\n",
    "# Preprocess the text\n",
    "stop_words = set(stopwords.words('english'))\n",
    "lemmatizer = WordNetLemmatizer()\n",
    "\n",
    "def preprocess_text(text):\n",
    "    text = text.lower()\n",
    "    text = re.sub(r'[^a-z\\s]', '', text)\n",
    "    tokens = word_tokenize(text)\n",
    "    tokens = [lemmatizer.lemmatize(word) for word in tokens if word not in stop_words]\n",
    "    return ' '.join(tokens)\n",
    "\n",
    "train_df['cleaned_content'] = train_df['content'].apply(preprocess_text)\n",
    "test_df['cleaned_content'] = test_df['content'].apply(preprocess_text)\n",
    "\n",
    "# Remove empty rows after preprocessing\n",
    "train_df = train_df[train_df['cleaned_content'].str.strip() != '']\n",
    "test_df = test_df[test_df['cleaned_content'].str.strip() != '']\n",
    "\n",
    "# Format the labels\n",
    "def format_labels(label):\n",
    "    return f\"__label__{label}\"\n",
    "\n",
    "train_df['formatted_labels'] = train_df['label'].apply(format_labels)\n",
    "test_df['formatted_labels'] = test_df['label'].apply(format_labels)\n",
    "\n",
    "# Save training and test data for FastText\n",
    "with open(\"train_yahoo.txt\", \"w\") as f:\n",
    "    for label, content in zip(train_df['formatted_labels'], train_df['cleaned_content']):\n",
    "        f.write(f\"{label} {content}\\n\")\n",
    "\n",
    "with open(\"test_yahoo.txt\", \"w\") as f:\n",
    "    for label, content in zip(test_df['formatted_labels'], test_df['cleaned_content']):\n",
    "        f.write(f\"{label} {content}\\n\")\n",
    "\n",
    "# Check if the training file has valid content\n",
    "with open(\"train_yahoo.txt\", \"r\") as f:\n",
    "    for i in range(5):\n",
    "        print(f.readline())\n",
    "\n",
    "# Train the FastText model with tuned parameters\n",
    "model = fasttext.train_supervised(\n",
    "    input=\"train_yahoo.txt\", \n",
    "    dim=10,  # Increased dimension\n",
    "    wordNgrams=2,  # Increased to 3-grams for richer context\n",
    "    epoch=100,  # More epochs for better training\n",
    "    lr=0.1,  # Adjusted learning rate\n",
    "    loss='softmax'  # Use softmax for better classification\n",
    ")\n",
    "\n",
    "# Save the model\n",
    "model.save_model(\"yahoo_model.bin\")\n",
    "\n",
    "# Test the FastText model\n",
    "result = model.test(\"test_yahoo.txt\")\n",
    "print(f\"Number of examples: {result[0]}\")\n",
    "print(f\"Precision (Accuracy): {result[1]}\")\n",
    "print(f\"Recall: {result[2]}\")\n",
    "\n",
    "# Calculate and print accuracy\n",
    "accuracy = result[1]  # Precision is the accuracy\n",
    "print(f\"Test Accuracy: {accuracy:.4f}\")\n"
   ]
  },
  {
   "cell_type": "markdown",
   "id": "4c6ea2ce",
   "metadata": {},
   "source": [
    "yahoo datset without bigram"
   ]
  },
  {
   "cell_type": "code",
   "execution_count": 8,
   "id": "b1f26fd6",
   "metadata": {},
   "outputs": [
    {
     "name": "stderr",
     "output_type": "stream",
     "text": [
      "[nltk_data] Downloading package punkt to\n",
      "[nltk_data]     /Users/puneethreddy/nltk_data...\n",
      "[nltk_data]   Package punkt is already up-to-date!\n",
      "[nltk_data] Downloading package stopwords to\n",
      "[nltk_data]     /Users/puneethreddy/nltk_data...\n",
      "[nltk_data]   Package stopwords is already up-to-date!\n",
      "[nltk_data] Downloading package wordnet to\n",
      "[nltk_data]     /Users/puneethreddy/nltk_data...\n",
      "[nltk_data]   Package wordnet is already up-to-date!\n"
     ]
    },
    {
     "name": "stdout",
     "output_type": "stream",
     "text": [
      "__label__6 best offroad motorcycle trail\n",
      "\n",
      "__label__3 trans fat reduce\n",
      "\n",
      "__label__7 many plane fedex\n",
      "\n",
      "__label__7 san francisco bay area make sense rent buy\n",
      "\n",
      "__label__5 whats best way clean keyboard\n",
      "\n"
     ]
    },
    {
     "name": "stderr",
     "output_type": "stream",
     "text": [
      "Read 10M words\n",
      "Number of words:  302639\n",
      "Number of labels: 10\n",
      "Progress:  99.7% words/sec/thread: 3979520 lr:  0.000279 avg.loss:  0.834293 ETA:   0h 0m 0s"
     ]
    },
    {
     "name": "stdout",
     "output_type": "stream",
     "text": [
      "Number of examples: 59814\n",
      "Precision (Accuracy): 0.6545290400240746\n",
      "Recall: 0.6545290400240746\n",
      "Test Accuracy: 0.6545\n"
     ]
    },
    {
     "name": "stderr",
     "output_type": "stream",
     "text": [
      "Progress: 100.0% words/sec/thread: 3979612 lr:  0.000000 avg.loss:  0.834197 ETA:   0h 0m 0s\n"
     ]
    }
   ],
   "source": [
    "import pandas as pd\n",
    "import re\n",
    "from nltk.corpus import stopwords\n",
    "from nltk.tokenize import word_tokenize\n",
    "import fasttext\n",
    "import nltk\n",
    "from nltk.stem import WordNetLemmatizer\n",
    "\n",
    "# Download required NLTK resources\n",
    "nltk.download('punkt')\n",
    "nltk.download('stopwords')\n",
    "nltk.download('wordnet')\n",
    "\n",
    "# Load the training and test datasets\n",
    "train_df = pd.read_csv(\"yahoo_train.csv\")\n",
    "test_df = pd.read_csv(\"yahoo_test.csv\")\n",
    "\n",
    "# Rename columns\n",
    "train_df.columns = ['label', 'content', 'extra_feature','extra_feature_2']\n",
    "test_df.columns = ['label', 'content', 'extra_feature','extra_feature_2']\n",
    "\n",
    "# Check for missing values and drop them if necessary\n",
    "train_df = train_df.dropna(subset=['label', 'content'])\n",
    "test_df = test_df.dropna(subset=['label', 'content'])\n",
    "\n",
    "# Preprocess the text\n",
    "stop_words = set(stopwords.words('english'))\n",
    "lemmatizer = WordNetLemmatizer()\n",
    "\n",
    "def preprocess_text(text):\n",
    "    text = text.lower()\n",
    "    text = re.sub(r'[^a-z\\s]', '', text)\n",
    "    tokens = word_tokenize(text)\n",
    "    tokens = [lemmatizer.lemmatize(word) for word in tokens if word not in stop_words]\n",
    "    return ' '.join(tokens)\n",
    "\n",
    "train_df['cleaned_content'] = train_df['content'].apply(preprocess_text)\n",
    "test_df['cleaned_content'] = test_df['content'].apply(preprocess_text)\n",
    "\n",
    "# Remove empty rows after preprocessing\n",
    "train_df = train_df[train_df['cleaned_content'].str.strip() != '']\n",
    "test_df = test_df[test_df['cleaned_content'].str.strip() != '']\n",
    "\n",
    "# Format the labels\n",
    "def format_labels(label):\n",
    "    return f\"__label__{label}\"\n",
    "\n",
    "train_df['formatted_labels'] = train_df['label'].apply(format_labels)\n",
    "test_df['formatted_labels'] = test_df['label'].apply(format_labels)\n",
    "\n",
    "# Save training and test data for FastText\n",
    "with open(\"train_yahoo.txt\", \"w\") as f:\n",
    "    for label, content in zip(train_df['formatted_labels'], train_df['cleaned_content']):\n",
    "        f.write(f\"{label} {content}\\n\")\n",
    "\n",
    "with open(\"test_yahoo.txt\", \"w\") as f:\n",
    "    for label, content in zip(test_df['formatted_labels'], test_df['cleaned_content']):\n",
    "        f.write(f\"{label} {content}\\n\")\n",
    "\n",
    "# Check if the training file has valid content\n",
    "with open(\"train_yahoo.txt\", \"r\") as f:\n",
    "    for i in range(5):\n",
    "        print(f.readline())\n",
    "\n",
    "# Train the FastText model with tuned parameters\n",
    "model = fasttext.train_supervised(\n",
    "    input=\"train_yahoo.txt\", \n",
    "    dim=10,\n",
    "    epoch=100,  # More epochs for better training\n",
    "    lr=0.1,  # Adjusted learning rate\n",
    "    loss='softmax'  # Use softmax for better classification\n",
    ")\n",
    "\n",
    "# Save the model\n",
    "model.save_model(\"yahoo_model.bin\")\n",
    "\n",
    "# Test the FastText model\n",
    "result = model.test(\"test_yahoo.txt\")\n",
    "print(f\"Number of examples: {result[0]}\")\n",
    "print(f\"Precision (Accuracy): {result[1]}\")\n",
    "print(f\"Recall: {result[2]}\")\n",
    "\n",
    "# Calculate and print accuracy\n",
    "accuracy = result[1]  # Precision is the accuracy\n",
    "print(f\"Test Accuracy: {accuracy:.4f}\")"
   ]
  },
  {
   "cell_type": "code",
   "execution_count": null,
   "id": "25d47e07",
   "metadata": {},
   "outputs": [],
   "source": []
  }
 ],
 "metadata": {
  "kernelspec": {
   "display_name": "Python 3 (ipykernel)",
   "language": "python",
   "name": "python3"
  },
  "language_info": {
   "codemirror_mode": {
    "name": "ipython",
    "version": 3
   },
   "file_extension": ".py",
   "mimetype": "text/x-python",
   "name": "python",
   "nbconvert_exporter": "python",
   "pygments_lexer": "ipython3",
   "version": "3.11.7"
  }
 },
 "nbformat": 4,
 "nbformat_minor": 5
}
