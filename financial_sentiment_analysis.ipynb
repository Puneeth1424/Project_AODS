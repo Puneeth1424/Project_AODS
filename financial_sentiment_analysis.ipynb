{
 "cells": [
  {
   "cell_type": "markdown",
   "id": "fd2dfd38",
   "metadata": {},
   "source": [
    "# Financial Sentiment Analysis with FastText"
   ]
  },
  {
   "cell_type": "markdown",
   "id": "c9d4e4ca",
   "metadata": {},
   "source": [
    "## **Financial Sentiment Analysis with bigrams**"
   ]
  },
  {
   "cell_type": "code",
   "execution_count": 1,
   "id": "e7b1b15b",
   "metadata": {},
   "outputs": [
    {
     "name": "stderr",
     "output_type": "stream",
     "text": [
      "[nltk_data] Downloading package punkt to C:\\Users\\N I T R O\n",
      "[nltk_data]     V\\AppData\\Roaming\\nltk_data...\n",
      "[nltk_data]   Package punkt is already up-to-date!\n",
      "[nltk_data] Downloading package stopwords to C:\\Users\\N I T R O\n",
      "[nltk_data]     V\\AppData\\Roaming\\nltk_data...\n",
      "[nltk_data]   Package stopwords is already up-to-date!\n"
     ]
    },
    {
     "data": {
      "text/plain": [
       "True"
      ]
     },
     "execution_count": 1,
     "metadata": {},
     "output_type": "execute_result"
    }
   ],
   "source": [
    "import pandas as pd\n",
    "import re\n",
    "from sklearn.model_selection import train_test_split\n",
    "from nltk.corpus import stopwords\n",
    "from nltk.tokenize import word_tokenize\n",
    "import fasttext\n",
    "import nltk\n",
    "\n",
    "nltk.download('punkt')\n",
    "nltk.download('stopwords')\n"
   ]
  },
  {
   "cell_type": "markdown",
   "id": "e3646f82",
   "metadata": {},
   "source": [
    "### checking the dataset for its label and content"
   ]
  },
  {
   "cell_type": "code",
   "execution_count": 2,
   "id": "1ef04f64",
   "metadata": {},
   "outputs": [
    {
     "data": {
      "text/html": [
       "<div>\n",
       "<style scoped>\n",
       "    .dataframe tbody tr th:only-of-type {\n",
       "        vertical-align: middle;\n",
       "    }\n",
       "\n",
       "    .dataframe tbody tr th {\n",
       "        vertical-align: top;\n",
       "    }\n",
       "\n",
       "    .dataframe thead th {\n",
       "        text-align: right;\n",
       "    }\n",
       "</style>\n",
       "<table border=\"1\" class=\"dataframe\">\n",
       "  <thead>\n",
       "    <tr style=\"text-align: right;\">\n",
       "      <th></th>\n",
       "      <th>Sentence</th>\n",
       "      <th>Sentiment</th>\n",
       "    </tr>\n",
       "  </thead>\n",
       "  <tbody>\n",
       "    <tr>\n",
       "      <th>0</th>\n",
       "      <td>The GeoSolutions technology will leverage Bene...</td>\n",
       "      <td>positive</td>\n",
       "    </tr>\n",
       "    <tr>\n",
       "      <th>1</th>\n",
       "      <td>$ESI on lows, down $1.50 to $2.50 BK a real po...</td>\n",
       "      <td>negative</td>\n",
       "    </tr>\n",
       "    <tr>\n",
       "      <th>2</th>\n",
       "      <td>For the last quarter of 2010 , Componenta 's n...</td>\n",
       "      <td>positive</td>\n",
       "    </tr>\n",
       "    <tr>\n",
       "      <th>3</th>\n",
       "      <td>According to the Finnish-Russian Chamber of Co...</td>\n",
       "      <td>neutral</td>\n",
       "    </tr>\n",
       "    <tr>\n",
       "      <th>4</th>\n",
       "      <td>The Swedish buyout firm has sold its remaining...</td>\n",
       "      <td>neutral</td>\n",
       "    </tr>\n",
       "  </tbody>\n",
       "</table>\n",
       "</div>"
      ],
      "text/plain": [
       "                                            Sentence Sentiment\n",
       "0  The GeoSolutions technology will leverage Bene...  positive\n",
       "1  $ESI on lows, down $1.50 to $2.50 BK a real po...  negative\n",
       "2  For the last quarter of 2010 , Componenta 's n...  positive\n",
       "3  According to the Finnish-Russian Chamber of Co...   neutral\n",
       "4  The Swedish buyout firm has sold its remaining...   neutral"
      ]
     },
     "execution_count": 2,
     "metadata": {},
     "output_type": "execute_result"
    }
   ],
   "source": [
    "df = pd.read_csv(r\"D:\\group_assignment\\financial_sentiment_analysis.csv\")\n",
    "df.head()"
   ]
  },
  {
   "cell_type": "markdown",
   "id": "ab0f3e95",
   "metadata": {},
   "source": [
    "### preprocessing the text"
   ]
  },
  {
   "cell_type": "code",
   "execution_count": 3,
   "id": "e215eda8",
   "metadata": {},
   "outputs": [
    {
     "data": {
      "text/html": [
       "<div>\n",
       "<style scoped>\n",
       "    .dataframe tbody tr th:only-of-type {\n",
       "        vertical-align: middle;\n",
       "    }\n",
       "\n",
       "    .dataframe tbody tr th {\n",
       "        vertical-align: top;\n",
       "    }\n",
       "\n",
       "    .dataframe thead th {\n",
       "        text-align: right;\n",
       "    }\n",
       "</style>\n",
       "<table border=\"1\" class=\"dataframe\">\n",
       "  <thead>\n",
       "    <tr style=\"text-align: right;\">\n",
       "      <th></th>\n",
       "      <th>content</th>\n",
       "      <th>label</th>\n",
       "    </tr>\n",
       "  </thead>\n",
       "  <tbody>\n",
       "    <tr>\n",
       "      <th>0</th>\n",
       "      <td>geosolutions technology leverage benefon gps s...</td>\n",
       "      <td>positive</td>\n",
       "    </tr>\n",
       "    <tr>\n",
       "      <th>1</th>\n",
       "      <td>esi lows bk real possibility</td>\n",
       "      <td>negative</td>\n",
       "    </tr>\n",
       "    <tr>\n",
       "      <th>2</th>\n",
       "      <td>last quarter componenta net sales doubled eurm...</td>\n",
       "      <td>positive</td>\n",
       "    </tr>\n",
       "    <tr>\n",
       "      <th>3</th>\n",
       "      <td>according finnishrussian chamber commerce majo...</td>\n",
       "      <td>neutral</td>\n",
       "    </tr>\n",
       "    <tr>\n",
       "      <th>4</th>\n",
       "      <td>swedish buyout firm sold remaining percent sta...</td>\n",
       "      <td>neutral</td>\n",
       "    </tr>\n",
       "  </tbody>\n",
       "</table>\n",
       "</div>"
      ],
      "text/plain": [
       "                                             content     label\n",
       "0  geosolutions technology leverage benefon gps s...  positive\n",
       "1                       esi lows bk real possibility  negative\n",
       "2  last quarter componenta net sales doubled eurm...  positive\n",
       "3  according finnishrussian chamber commerce majo...   neutral\n",
       "4  swedish buyout firm sold remaining percent sta...   neutral"
      ]
     },
     "execution_count": 3,
     "metadata": {},
     "output_type": "execute_result"
    }
   ],
   "source": [
    "# preprocessing the text\n",
    "df.columns = ['content', 'label']\n",
    "stop_words = set(stopwords.words('english'))\n",
    "\n",
    "def preprocess_text(text):\n",
    "    text = text.lower()  # Convert to lowercase\n",
    "    text = re.sub(r'[^a-z\\s]', '', text)  # Remove special characters\n",
    "    tokens = word_tokenize(text)  # Tokenize text\n",
    "    tokens = [word for word in tokens if word not in stop_words]  # Remove stopwords\n",
    "    return ' '.join(tokens)\n",
    "\n",
    "# applying preprocessing to the 'content' column\n",
    "df['content'] = df['content'].apply(preprocess_text)\n",
    "df.head()"
   ]
  },
  {
   "cell_type": "markdown",
   "id": "58b59671",
   "metadata": {},
   "source": [
    "### spliting dataset into training and testing dataset"
   ]
  },
  {
   "cell_type": "code",
   "execution_count": 4,
   "id": "5accc99e",
   "metadata": {},
   "outputs": [],
   "source": [
    "# spliting the dataset into train and test sets (80% train, 20% test)\n",
    "train_df, test_df = train_test_split(df, test_size=0.2, random_state=42, stratify=df['label'])\n",
    "\n",
    "# saving train and test sets in a format suitable for FastText\n",
    "train_df['label'] = '__label__' + train_df['label']  # FastText requires labels to start with __label__\n",
    "test_df['label'] = '__label__' + test_df['label']\n"
   ]
  },
  {
   "cell_type": "markdown",
   "id": "03a7c152",
   "metadata": {},
   "source": [
    "### saving the data in FastText format"
   ]
  },
  {
   "cell_type": "code",
   "execution_count": 5,
   "id": "eb446b66",
   "metadata": {},
   "outputs": [],
   "source": [
    "# saving train and test sets in a format suitable for FastText\n",
    "train_df['label'] = '__label__' + train_df['label']  # FastText requires labels to start with '__label__'\n",
    "test_df['label'] = '__label__' + test_df['label']\n",
    "\n",
    "train_df[['label', 'content']].to_csv('financial_train_fasttext.txt', index=False, sep=' ', header=None)\n",
    "test_df[['label', 'content']].to_csv('financial_test_fasttext.txt', index=False, sep=' ', header=None)"
   ]
  },
  {
   "cell_type": "markdown",
   "id": "f21792fc",
   "metadata": {},
   "source": [
    "### Train a FastText model"
   ]
  },
  {
   "cell_type": "code",
   "execution_count": 6,
   "id": "44dc3ff4",
   "metadata": {},
   "outputs": [],
   "source": [
    "# training the FastText model\n",
    "model = fasttext.train_supervised(input='financial_train_fasttext.txt', lr=1.0, epoch=25, wordNgrams=2)\n",
    "model.save_model('financial_sentiment_model.bin')"
   ]
  },
  {
   "cell_type": "markdown",
   "id": "94ca9724",
   "metadata": {},
   "source": [
    "### evaluating fasttext model"
   ]
  },
  {
   "cell_type": "code",
   "execution_count": 7,
   "id": "c21ca029",
   "metadata": {},
   "outputs": [
    {
     "name": "stdout",
     "output_type": "stream",
     "text": [
      "Number of examples: 1169\n",
      "Precision (Accuracy): 0.6467065868263473\n",
      "Recall: 0.6467065868263473\n"
     ]
    }
   ],
   "source": [
    "# testing the model on the test set\n",
    "test_result = model.test('financial_test_fasttext.txt')\n",
    "print(f'Number of examples: {test_result[0]}')\n",
    "print(f'Precision (Accuracy): {test_result[1]}')\n",
    "print(f'Recall: {test_result[2]}')"
   ]
  },
  {
   "cell_type": "markdown",
   "id": "8d07cd95",
   "metadata": {},
   "source": [
    "### checking prediction in new sentences"
   ]
  },
  {
   "cell_type": "code",
   "execution_count": 8,
   "id": "267f7612",
   "metadata": {},
   "outputs": [
    {
     "name": "stdout",
     "output_type": "stream",
     "text": [
      "Prediction for \"The company reported a large growth in revenue this quarter.\": (('__label____label__neutral',), array([0.87928021]))\n"
     ]
    }
   ],
   "source": [
    "example_sentence = 'The company reported a large growth in revenue this quarter.'\n",
    "preprocessed_sentence = preprocess_text(example_sentence)\n",
    "prediction = model.predict(preprocessed_sentence)\n",
    "print(f'Prediction for \"{example_sentence}\": {prediction}')"
   ]
  },
  {
   "cell_type": "markdown",
   "id": "340b9957",
   "metadata": {},
   "source": [
    "## **Financial Sentiment Analysis without bigrams**"
   ]
  },
  {
   "cell_type": "code",
   "execution_count": 9,
   "id": "f3411726",
   "metadata": {},
   "outputs": [],
   "source": [
    "from nltk.stem import WordNetLemmatizer"
   ]
  },
  {
   "cell_type": "code",
   "execution_count": 10,
   "id": "3a3c3bd0",
   "metadata": {},
   "outputs": [
    {
     "name": "stderr",
     "output_type": "stream",
     "text": [
      "[nltk_data] Downloading package wordnet to C:\\Users\\N I T R O\n",
      "[nltk_data]     V\\AppData\\Roaming\\nltk_data...\n",
      "[nltk_data]   Package wordnet is already up-to-date!\n"
     ]
    }
   ],
   "source": [
    "nltk.download('wordnet')\n",
    "\n",
    "df = df.dropna(subset=['label','content'])"
   ]
  },
  {
   "cell_type": "markdown",
   "id": "c7f7ae5c",
   "metadata": {},
   "source": [
    "### preprocessing the text"
   ]
  },
  {
   "cell_type": "code",
   "execution_count": 11,
   "id": "edcf9f89",
   "metadata": {},
   "outputs": [
    {
     "data": {
      "text/html": [
       "<div>\n",
       "<style scoped>\n",
       "    .dataframe tbody tr th:only-of-type {\n",
       "        vertical-align: middle;\n",
       "    }\n",
       "\n",
       "    .dataframe tbody tr th {\n",
       "        vertical-align: top;\n",
       "    }\n",
       "\n",
       "    .dataframe thead th {\n",
       "        text-align: right;\n",
       "    }\n",
       "</style>\n",
       "<table border=\"1\" class=\"dataframe\">\n",
       "  <thead>\n",
       "    <tr style=\"text-align: right;\">\n",
       "      <th></th>\n",
       "      <th>content</th>\n",
       "      <th>label</th>\n",
       "      <th>cleaned_content</th>\n",
       "    </tr>\n",
       "  </thead>\n",
       "  <tbody>\n",
       "    <tr>\n",
       "      <th>0</th>\n",
       "      <td>geosolutions technology leverage benefon gps s...</td>\n",
       "      <td>positive</td>\n",
       "      <td>geosolutions technology leverage benefon gps s...</td>\n",
       "    </tr>\n",
       "    <tr>\n",
       "      <th>1</th>\n",
       "      <td>esi lows bk real possibility</td>\n",
       "      <td>negative</td>\n",
       "      <td>esi low bk real possibility</td>\n",
       "    </tr>\n",
       "    <tr>\n",
       "      <th>2</th>\n",
       "      <td>last quarter componenta net sales doubled eurm...</td>\n",
       "      <td>positive</td>\n",
       "      <td>last quarter componenta net sale doubled eurm ...</td>\n",
       "    </tr>\n",
       "    <tr>\n",
       "      <th>3</th>\n",
       "      <td>according finnishrussian chamber commerce majo...</td>\n",
       "      <td>neutral</td>\n",
       "      <td>according finnishrussian chamber commerce majo...</td>\n",
       "    </tr>\n",
       "    <tr>\n",
       "      <th>4</th>\n",
       "      <td>swedish buyout firm sold remaining percent sta...</td>\n",
       "      <td>neutral</td>\n",
       "      <td>swedish buyout firm sold remaining percent sta...</td>\n",
       "    </tr>\n",
       "  </tbody>\n",
       "</table>\n",
       "</div>"
      ],
      "text/plain": [
       "                                             content     label  \\\n",
       "0  geosolutions technology leverage benefon gps s...  positive   \n",
       "1                       esi lows bk real possibility  negative   \n",
       "2  last quarter componenta net sales doubled eurm...  positive   \n",
       "3  according finnishrussian chamber commerce majo...   neutral   \n",
       "4  swedish buyout firm sold remaining percent sta...   neutral   \n",
       "\n",
       "                                     cleaned_content  \n",
       "0  geosolutions technology leverage benefon gps s...  \n",
       "1                        esi low bk real possibility  \n",
       "2  last quarter componenta net sale doubled eurm ...  \n",
       "3  according finnishrussian chamber commerce majo...  \n",
       "4  swedish buyout firm sold remaining percent sta...  "
      ]
     },
     "execution_count": 11,
     "metadata": {},
     "output_type": "execute_result"
    }
   ],
   "source": [
    "# preprocessing the text\n",
    "stop_words = set(stopwords.words('english'))\n",
    "lemmatizer = WordNetLemmatizer()\n",
    "\n",
    "def preprocess_text(text):\n",
    "    \"\"\"\n",
    "    Preprocesses the text by:\n",
    "    - Lowercasing\n",
    "    - Removing non-alphabetic characters\n",
    "    - Tokenizing\n",
    "    - Removing stopwords\n",
    "    - Lemmatizing\n",
    "    \"\"\"\n",
    "    text = text.lower()  # Convert to lowercase\n",
    "    text = re.sub(r'[^a-z\\s]', '', text)  # Remove special characters\n",
    "    tokens = word_tokenize(text)  # Tokenize text\n",
    "    tokens = [lemmatizer.lemmatize(word) for word in tokens if word not in stop_words]  # Lemmatize and remove stopwords\n",
    "    return ' '.join(tokens)\n",
    "\n",
    "# applying preprocessing to the 'content' column\n",
    "df['cleaned_content'] = df['content'].apply(preprocess_text)\n",
    "# removing empty rows after preprocessing\n",
    "df = df[df['cleaned_content'].str.strip() != '']\n",
    "\n",
    "df.head()\n"
   ]
  },
  {
   "cell_type": "code",
   "execution_count": 12,
   "id": "207f5630",
   "metadata": {},
   "outputs": [],
   "source": [
    "# removing empty rows after preprocessing\n",
    "df = df[df['cleaned_content'].str.strip() != '']\n",
    "\n",
    "# formating the labels to match FastText's required format\n",
    "def format_labels(label):\n",
    "    return f\"__label__{label}\"\n",
    "\n",
    "df['formatted_labels'] = df['label'].apply(format_labels)\n"
   ]
  },
  {
   "cell_type": "markdown",
   "id": "4e074269",
   "metadata": {},
   "source": [
    "### spliting dataset into training and testing dataset"
   ]
  },
  {
   "cell_type": "code",
   "execution_count": 13,
   "id": "50553691",
   "metadata": {},
   "outputs": [
    {
     "name": "stdout",
     "output_type": "stream",
     "text": [
      "__label__negative national conciliator juhani salonius met party wednesday said far apart view propose mediation\n",
      "\n",
      "__label__neutral rad chart flashing oversold\n",
      "\n",
      "__label__neutral furthermore company sell warehouse office building loudeac saint marcel lease new joint premise operation morvillars\n",
      "\n",
      "__label__positive adp news feb finnish solution provider affecto oyj hel afev said today net profit rose eur million usd eur million\n",
      "\n",
      "__label__positive aim increase sale least one fifth\n",
      "\n"
     ]
    }
   ],
   "source": [
    "# spliting the dataset into training and test sets (80% train, 20% test)\n",
    "from sklearn.model_selection import train_test_split\n",
    "train_df, test_df = train_test_split(df, test_size=0.2, random_state=42, stratify=df['label'])\n",
    "# saving the training and test data in FastText format\n",
    "with open(\"financial_train_fasttext.txt\", \"w\") as f:\n",
    "    for label, content in zip(train_df['formatted_labels'], train_df['cleaned_content']):\n",
    "        f.write(f\"{label} {content}\\n\")\n",
    "\n",
    "with open(\"financial_test_fasttext.txt\", \"w\") as f:\n",
    "    for label, content in zip(test_df['formatted_labels'], test_df['cleaned_content']):\n",
    "        f.write(f\"{label} {content}\\n\")\n",
    "\n",
    "# checking if the training file has valid content\n",
    "with open(\"financial_train_fasttext.txt\", \"r\") as f:\n",
    "    for i in range(5):\n",
    "        print(f.readline())"
   ]
  },
  {
   "cell_type": "markdown",
   "id": "8c092ac2",
   "metadata": {},
   "source": [
    "### training fasttext model"
   ]
  },
  {
   "cell_type": "code",
   "execution_count": 14,
   "id": "083a1edf",
   "metadata": {},
   "outputs": [],
   "source": [
    "# training the FastText model with tuned parameters\n",
    "model = fasttext.train_supervised(\n",
    "    input=\"financial_train_fasttext.txt\", \n",
    "    dim=10,  # Vector dimension\n",
    "    epoch=100,  # More epochs for better training\n",
    "    lr=0.1,  # Adjusted learning rate\n",
    "    loss='softmax'  # Use softmax for better classification\n",
    ")\n",
    "\n",
    "model.save_model(\"financial_sentiment_model.bin\")"
   ]
  },
  {
   "cell_type": "markdown",
   "id": "20429739",
   "metadata": {},
   "source": [
    "### evaluating fastext model"
   ]
  },
  {
   "cell_type": "code",
   "execution_count": 15,
   "id": "81688173",
   "metadata": {},
   "outputs": [
    {
     "name": "stdout",
     "output_type": "stream",
     "text": [
      "Number of examples: 1169\n",
      "Precision (Accuracy): 0.6449957228400343\n",
      "Recall: 0.6449957228400343\n",
      "Test Accuracy: 0.6450\n"
     ]
    }
   ],
   "source": [
    "# testing the FastText model\n",
    "result = model.test(\"financial_test_fasttext.txt\")\n",
    "print(f\"Number of examples: {result[0]}\")\n",
    "print(f\"Precision (Accuracy): {result[1]}\")\n",
    "print(f\"Recall: {result[2]}\")\n",
    "\n",
    "# printing accuracy\n",
    "accuracy = result[1]  # Precision is the accuracy\n",
    "print(f\"Test Accuracy: {accuracy:.4f}\")"
   ]
  },
  {
   "cell_type": "markdown",
   "id": "540bffb1",
   "metadata": {},
   "source": [
    "### checking prediction on new sentence"
   ]
  },
  {
   "cell_type": "code",
   "execution_count": 16,
   "id": "66d4c00d",
   "metadata": {},
   "outputs": [
    {
     "name": "stdout",
     "output_type": "stream",
     "text": [
      "Prediction for 'The company's stock price surged after the announcement.': (('__label__positive',), array([0.99748534]))\n"
     ]
    }
   ],
   "source": [
    "example_sentence = \"The company's stock price surged after the announcement.\"\n",
    "preprocessed_sentence = preprocess_text(example_sentence)\n",
    "prediction = model.predict(preprocessed_sentence)\n",
    "print(f\"Prediction for '{example_sentence}': {prediction}\")\n"
   ]
  },
  {
   "cell_type": "code",
   "execution_count": null,
   "id": "067ba18c",
   "metadata": {},
   "outputs": [],
   "source": []
  },
  {
   "cell_type": "code",
   "execution_count": null,
   "id": "b6b65dcb",
   "metadata": {},
   "outputs": [],
   "source": []
  }
 ],
 "metadata": {
  "kernelspec": {
   "display_name": "Python 3 (ipykernel)",
   "language": "python",
   "name": "python3"
  },
  "language_info": {
   "codemirror_mode": {
    "name": "ipython",
    "version": 3
   },
   "file_extension": ".py",
   "mimetype": "text/x-python",
   "name": "python",
   "nbconvert_exporter": "python",
   "pygments_lexer": "ipython3",
   "version": "3.11.7"
  }
 },
 "nbformat": 4,
 "nbformat_minor": 5
}
