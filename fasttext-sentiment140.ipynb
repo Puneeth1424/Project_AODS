{
 "cells": [
  {
   "cell_type": "code",
   "execution_count": 5,
   "id": "b8f19998-fd13-4fa2-89e6-7f4aca15a254",
   "metadata": {},
   "outputs": [],
   "source": [
    "import pandas as pd\n",
    "import re\n",
    "from nltk.corpus import stopwords\n",
    "from nltk.tokenize import word_tokenize\n",
    "import fasttext\n",
    "import nltk\n",
    "from sklearn.model_selection import train_test_split"
   ]
  },
  {
   "cell_type": "code",
   "execution_count": 6,
   "id": "474f434b-b6b0-4745-9102-f0979a6c3fcb",
   "metadata": {},
   "outputs": [
    {
     "name": "stderr",
     "output_type": "stream",
     "text": [
      "[nltk_data] Downloading package punkt to /Users/pranjakt/nltk_data...\n",
      "[nltk_data]   Package punkt is already up-to-date!\n",
      "[nltk_data] Downloading package stopwords to\n",
      "[nltk_data]     /Users/pranjakt/nltk_data...\n",
      "[nltk_data]   Unzipping corpora/stopwords.zip.\n"
     ]
    },
    {
     "data": {
      "text/plain": [
       "True"
      ]
     },
     "execution_count": 6,
     "metadata": {},
     "output_type": "execute_result"
    }
   ],
   "source": [
    "# Download required NLTK resources\n",
    "nltk.download('punkt')\n",
    "nltk.download('stopwords')"
   ]
  },
  {
   "cell_type": "code",
   "execution_count": 7,
   "id": "1803c444-ea05-4297-90e2-6e4adc3de4e9",
   "metadata": {},
   "outputs": [],
   "source": [
    "# Load the Sentiment140 dataset\n",
    "df = pd.read_csv(\"sentiment140.csv\", encoding='latin-1', header=None)"
   ]
  },
  {
   "cell_type": "code",
   "execution_count": 9,
   "id": "20d6dbe7-9b06-4f16-94c0-35bb32f1a58d",
   "metadata": {},
   "outputs": [],
   "source": [
    "# Rename columns according to the dataset description\n",
    "df.columns = ['target', 'id', 'date', 'flag', 'user', 'text']"
   ]
  },
  {
   "cell_type": "code",
   "execution_count": 10,
   "id": "63991bea-4850-49f0-bec3-5622ef9be5ce",
   "metadata": {},
   "outputs": [],
   "source": [
    "# Preprocess the text\n",
    "stop_words = set(stopwords.words('english'))\n",
    "\n",
    "def preprocess_text(text):\n",
    "    text = text.lower()\n",
    "    text = re.sub(r'[^a-z\\s]', '', text)  # Remove punctuation and special characters\n",
    "    tokens = word_tokenize(text)\n",
    "    tokens = [word for word in tokens if word not in stop_words]\n",
    "    return ' '.join(tokens)"
   ]
  },
  {
   "cell_type": "code",
   "execution_count": 11,
   "id": "a74e61b0-dc49-4bb3-a78c-92837f5fbb0a",
   "metadata": {},
   "outputs": [],
   "source": [
    "# Apply preprocessing to the 'text' column\n",
    "df['cleaned_content'] = df['text'].apply(preprocess_text)"
   ]
  },
  {
   "cell_type": "code",
   "execution_count": 13,
   "id": "ec025a7e-61bb-4e42-88f0-31264fc238b5",
   "metadata": {},
   "outputs": [],
   "source": [
    "# Format the labels for FastText\n",
    "def format_labels(label):\n",
    "    if label == 4:\n",
    "        return \"__label__1\"  # Positive\n",
    "    elif label == 0:\n",
    "        return \"__label__0\"  # Negative\n",
    "    elif label == 2:\n",
    "        return \"__label__2\"  # Neutral\n",
    "    return \"__label__-1\"  # If any other label, just in case\n",
    "\n",
    "df['formatted_labels'] = df['target'].apply(format_labels)"
   ]
  },
  {
   "cell_type": "code",
   "execution_count": 14,
   "id": "006ba288-f1ce-43fc-aa93-d56cdda63ee5",
   "metadata": {},
   "outputs": [],
   "source": [
    "# Split the data into training and testing sets (80% train, 20% test)\n",
    "train_df, test_df = train_test_split(df, test_size=0.2, random_state=42)"
   ]
  },
  {
   "cell_type": "code",
   "execution_count": 15,
   "id": "b1bd6692-57e5-4ac1-bf4d-acfc715781da",
   "metadata": {},
   "outputs": [],
   "source": [
    "# Save training and test data for FastText\n",
    "with open(\"train_sentiment140.txt\", \"w\") as f:\n",
    "    for label, content in zip(train_df['formatted_labels'], train_df['cleaned_content']):\n",
    "        f.write(f\"{label} {content}\\n\")"
   ]
  },
  {
   "cell_type": "code",
   "execution_count": 16,
   "id": "7d844a8a-854a-4401-a2e6-f0b27b6a7e18",
   "metadata": {},
   "outputs": [],
   "source": [
    "with open(\"test_sentiment140.txt\", \"w\") as f:\n",
    "    for label, content in zip(test_df['formatted_labels'], test_df['cleaned_content']):\n",
    "        f.write(f\"{label} {content}\\n\")"
   ]
  },
  {
   "cell_type": "markdown",
   "id": "1161aa75-9ce2-47c3-8a76-8a7d58f6b6fd",
   "metadata": {},
   "source": [
    "### fasttext with bigrams"
   ]
  },
  {
   "cell_type": "code",
   "execution_count": 35,
   "id": "4f78780b-0b05-4102-ab88-cd3bc6b74baa",
   "metadata": {},
   "outputs": [
    {
     "name": "stderr",
     "output_type": "stream",
     "text": [
      "Read 12M words\n",
      "Number of words:  677136\n",
      "Number of labels: 2\n",
      "Progress: 100.0% words/sec/thread: 5718836 lr:  0.000000 avg.loss:  0.336820 ETA:   0h 0m 0s\n"
     ]
    },
    {
     "name": "stdout",
     "output_type": "stream",
     "text": [
      "Number of examples: 320000\n",
      "Precision (Accuracy): 0.77985\n",
      "Recall: 0.77985\n"
     ]
    }
   ],
   "source": [
    "# Train the FastText model with bigrams\n",
    "model1 = fasttext.train_supervised(\n",
    "    input=\"train_sentiment140.txt\",\n",
    "    dim=10,           # Set embedding dimension to 10\n",
    "    wordNgrams=2      # Include bigrams\n",
    ")\n",
    "\n",
    "# Save the model\n",
    "model1.save_model(\"sentiment140_model1.bin\")\n",
    "\n",
    "# Test the FastText model\n",
    "result = model.test(\"test_sentiment140.txt\")\n",
    "print(f\"Number of examples: {result[0]}\")\n",
    "print(f\"Precision (Accuracy): {result[1]}\")\n",
    "print(f\"Recall: {result[2]}\")"
   ]
  },
  {
   "cell_type": "markdown",
   "id": "c603a595-2b4a-4524-8c69-b91a36a086d2",
   "metadata": {},
   "source": [
    "### fasttext with optimized parameters like trigrams"
   ]
  },
  {
   "cell_type": "code",
   "execution_count": 36,
   "id": "d0e38e1c-e4b1-45bc-a550-11c39aba1b85",
   "metadata": {},
   "outputs": [
    {
     "name": "stderr",
     "output_type": "stream",
     "text": [
      "Read 12M words\n",
      "Number of words:  677136\n",
      "Number of labels: 2\n",
      "Progress: 100.0% words/sec/thread: 2474867 lr:  0.000000 avg.loss:  0.363379 ETA:   0h 0m 0s\n"
     ]
    },
    {
     "name": "stdout",
     "output_type": "stream",
     "text": [
      "Number of examples: 320000\n",
      "Precision (Accuracy): 0.769878125\n",
      "Recall: 0.769878125\n"
     ]
    }
   ],
   "source": [
    "# Train the FastText model with optimized parameters \n",
    "model2 = fasttext.train_supervised(\n",
    "    input=\"train_sentiment140.txt\",\n",
    "    dim=300,          # Higher embedding dimension\n",
    "    lr=0.1,           # Adjust learning rate\n",
    "    epoch=25,         # Increase number of epochs\n",
    ")\n",
    "\n",
    "# Save the model\n",
    "model2.save_model(\"sentiment140_model2.bin\")\n",
    "\n",
    "# Test the FastText model\n",
    "result = model2.test(\"test_sentiment140.txt\")\n",
    "print(f\"Number of examples: {result[0]}\")\n",
    "print(f\"Precision (Accuracy): {result[1]}\")\n",
    "print(f\"Recall: {result[2]}\")"
   ]
  },
  {
   "cell_type": "code",
   "execution_count": null,
   "id": "9fbc0da3-0942-4441-9a1d-7d02bcbac28f",
   "metadata": {},
   "outputs": [],
   "source": []
  }
 ],
 "metadata": {
  "kernelspec": {
   "display_name": "Python 3 (ipykernel)",
   "language": "python",
   "name": "python3"
  },
  "language_info": {
   "codemirror_mode": {
    "name": "ipython",
    "version": 3
   },
   "file_extension": ".py",
   "mimetype": "text/x-python",
   "name": "python",
   "nbconvert_exporter": "python",
   "pygments_lexer": "ipython3",
   "version": "3.11.7"
  }
 },
 "nbformat": 4,
 "nbformat_minor": 5
}
